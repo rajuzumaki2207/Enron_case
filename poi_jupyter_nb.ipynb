{
 "cells": [
  {
   "cell_type": "markdown",
   "metadata": {},
   "source": [
    "# Enron Case-Person of Interest"
   ]
  },
  {
   "cell_type": "code",
   "execution_count": null,
   "metadata": {},
   "outputs": [],
   "source": [
    "#!/usr/bin/python\n",
    "## Author is Rajdeep\n",
    "import sys\n",
    "import pickle\n",
    "sys.path.append(\"../tools/\")\n",
    "\n",
    "from feature_format import featureFormat, targetFeatureSplit\n",
    "##  tester.py is modified becuase of renaming and deprecation of cross_validation sub-module to model_selection\n",
    "from tester import dump_classifier_and_data\n",
    "##  tester.py is modified becuase of renaming and deprecation of cross_validation sub-module to model_selection"
   ]
  },
  {
   "cell_type": "code",
   "execution_count": 2,
   "metadata": {},
   "outputs": [],
   "source": [
    "### Task 1: Select what features you'll use.\n",
    "### features_list is a list of strings, each of which is a feature name.\n",
    "### The first feature must be \"poi\".\n",
    "features_list=['poi','salary']"
   ]
  },
  {
   "cell_type": "code",
   "execution_count": 3,
   "metadata": {},
   "outputs": [],
   "source": [
    "### Load the dictionary containing the dataset\n",
    "with open(\"final_project_dataset.pkl\", \"r\") as data_file:\n",
    "    data_dict = pickle.load(data_file)"
   ]
  },
  {
   "cell_type": "code",
   "execution_count": 4,
   "metadata": {},
   "outputs": [],
   "source": [
    "### Data exploration\n",
    "### Task 2: Remove outliers\n",
    "### Task 3: Create new feature(s)\n",
    "### Store to my_dataset for easy export below.\n",
    "my_dataset = data_dict"
   ]
  },
  {
   "cell_type": "code",
   "execution_count": 5,
   "metadata": {},
   "outputs": [],
   "source": [
    "#Number of suspects\n",
    "name_data_point=data_dict.keys()"
   ]
  },
  {
   "cell_type": "code",
   "execution_count": 6,
   "metadata": {},
   "outputs": [
    {
     "name": "stdout",
     "output_type": "stream",
     "text": [
      "Total number of datapoints are 146\n"
     ]
    }
   ],
   "source": [
    "print 'Total number of datapoints are {}'.format(len(name_data_point))"
   ]
  },
  {
   "cell_type": "code",
   "execution_count": 7,
   "metadata": {},
   "outputs": [
    {
     "name": "stdout",
     "output_type": "stream",
     "text": [
      "Total number of features are 21\n"
     ]
    }
   ],
   "source": [
    "#Number of features\n",
    "total_features=len (data_dict[name_data_point[0]])\n",
    "print 'Total number of features are {}'.format(total_features)\n"
   ]
  },
  {
   "cell_type": "code",
   "execution_count": 48,
   "metadata": {},
   "outputs": [],
   "source": [
    "features_temp=data_dict[name_data_point[0]].keys()"
   ]
  },
  {
   "cell_type": "code",
   "execution_count": 51,
   "metadata": {},
   "outputs": [],
   "source": [
    "#For convinience of data cleaning (Removing NaN) using pandas (Ref: Data visulization)\n",
    "import pandas as pd\n",
    "import numpy as np\n",
    "import matplotlib.pyplot as plt"
   ]
  },
  {
   "cell_type": "code",
   "execution_count": 52,
   "metadata": {},
   "outputs": [],
   "source": [
    "unwanted_features=[\"poi\",\"email_address\", \"restricted_stock_deferred\",\"loan_advances\",\"director_fees\", \"other\",\"deferral_payments\",\"deferred_income\"]\n",
    "\n",
    "features_temp=[ele for ele in features_temp if ele not in unwanted_features]\n",
    "# to make the first element in the list \"poi\"\n",
    "features_temp=[\"poi\"]+features_temp\n",
    "feature_data= featureFormat(data_dict,features_temp,remove_NaN=False)\n"
   ]
  },
  {
   "cell_type": "code",
   "execution_count": 53,
   "metadata": {},
   "outputs": [
    {
     "name": "stdout",
     "output_type": "stream",
     "text": [
      "With NaN\n",
      "<class 'pandas.core.frame.DataFrame'>\n",
      "Index: 146 entries, METTS MARK to GLISAN JR BEN F\n",
      "Data columns (total 14 columns):\n",
      "poi                        146 non-null float64\n",
      "salary                     95 non-null float64\n",
      "to_messages                86 non-null float64\n",
      "total_payments             125 non-null float64\n",
      "exercised_stock_options    102 non-null float64\n",
      "bonus                      82 non-null float64\n",
      "restricted_stock           110 non-null float64\n",
      "shared_receipt_with_poi    86 non-null float64\n",
      "total_stock_value          126 non-null float64\n",
      "expenses                   95 non-null float64\n",
      "from_messages              86 non-null float64\n",
      "from_this_person_to_poi    86 non-null float64\n",
      "long_term_incentive        66 non-null float64\n",
      "from_poi_to_this_person    86 non-null float64\n",
      "dtypes: float64(14)\n",
      "memory usage: 17.1+ KB\n",
      "None\n"
     ]
    }
   ],
   "source": [
    "temp_df=pd.DataFrame(data=feature_data,columns=features_temp, index=name_data_point)\n",
    "print \"With NaN\"\n",
    "print temp_df.info()"
   ]
  },
  {
   "cell_type": "code",
   "execution_count": 54,
   "metadata": {},
   "outputs": [
    {
     "name": "stdout",
     "output_type": "stream",
     "text": [
      "Removing NaN and replacing with 0\n",
      "<class 'pandas.core.frame.DataFrame'>\n",
      "Index: 146 entries, METTS MARK to GLISAN JR BEN F\n",
      "Data columns (total 14 columns):\n",
      "poi                        146 non-null float64\n",
      "salary                     146 non-null float64\n",
      "to_messages                146 non-null float64\n",
      "total_payments             146 non-null float64\n",
      "exercised_stock_options    146 non-null float64\n",
      "bonus                      146 non-null float64\n",
      "restricted_stock           146 non-null float64\n",
      "shared_receipt_with_poi    146 non-null float64\n",
      "total_stock_value          146 non-null float64\n",
      "expenses                   146 non-null float64\n",
      "from_messages              146 non-null float64\n",
      "from_this_person_to_poi    146 non-null float64\n",
      "long_term_incentive        146 non-null float64\n",
      "from_poi_to_this_person    146 non-null float64\n",
      "dtypes: float64(14)\n",
      "memory usage: 17.1+ KB\n",
      "None\n"
     ]
    }
   ],
   "source": [
    "#Replacing 'NaN' with 0\n",
    "temp_df=temp_df.fillna(0)\n",
    "print \"Removing NaN and replacing with 0\"\n",
    "print temp_df.info()"
   ]
  },
  {
   "cell_type": "markdown",
   "metadata": {},
   "source": [
    "## Outlier detection and data cleaning "
   ]
  },
  {
   "cell_type": "code",
   "execution_count": 55,
   "metadata": {
    "scrolled": false
   },
   "outputs": [
    {
     "data": {
      "text/html": [
       "<div>\n",
       "<style scoped>\n",
       "    .dataframe tbody tr th:only-of-type {\n",
       "        vertical-align: middle;\n",
       "    }\n",
       "\n",
       "    .dataframe tbody tr th {\n",
       "        vertical-align: top;\n",
       "    }\n",
       "\n",
       "    .dataframe thead th {\n",
       "        text-align: right;\n",
       "    }\n",
       "</style>\n",
       "<table border=\"1\" class=\"dataframe\">\n",
       "  <thead>\n",
       "    <tr style=\"text-align: right;\">\n",
       "      <th></th>\n",
       "      <th>salary</th>\n",
       "      <th>total_payments</th>\n",
       "      <th>exercised_stock_options</th>\n",
       "      <th>bonus</th>\n",
       "      <th>restricted_stock</th>\n",
       "      <th>total_stock_value</th>\n",
       "      <th>expenses</th>\n",
       "    </tr>\n",
       "  </thead>\n",
       "  <tbody>\n",
       "    <tr>\n",
       "      <th>count</th>\n",
       "      <td>1.460000e+02</td>\n",
       "      <td>1.460000e+02</td>\n",
       "      <td>1.460000e+02</td>\n",
       "      <td>1.460000e+02</td>\n",
       "      <td>1.460000e+02</td>\n",
       "      <td>1.460000e+02</td>\n",
       "      <td>1.460000e+02</td>\n",
       "    </tr>\n",
       "    <tr>\n",
       "      <th>mean</th>\n",
       "      <td>3.658114e+05</td>\n",
       "      <td>4.350622e+06</td>\n",
       "      <td>4.182736e+06</td>\n",
       "      <td>1.333474e+06</td>\n",
       "      <td>1.749257e+06</td>\n",
       "      <td>5.846018e+06</td>\n",
       "      <td>7.074827e+04</td>\n",
       "    </tr>\n",
       "    <tr>\n",
       "      <th>std</th>\n",
       "      <td>2.203575e+06</td>\n",
       "      <td>2.693448e+07</td>\n",
       "      <td>2.607040e+07</td>\n",
       "      <td>8.094029e+06</td>\n",
       "      <td>1.089995e+07</td>\n",
       "      <td>3.624681e+07</td>\n",
       "      <td>4.327163e+05</td>\n",
       "    </tr>\n",
       "    <tr>\n",
       "      <th>min</th>\n",
       "      <td>0.000000e+00</td>\n",
       "      <td>0.000000e+00</td>\n",
       "      <td>0.000000e+00</td>\n",
       "      <td>0.000000e+00</td>\n",
       "      <td>-2.604490e+06</td>\n",
       "      <td>-4.409300e+04</td>\n",
       "      <td>0.000000e+00</td>\n",
       "    </tr>\n",
       "    <tr>\n",
       "      <th>25%</th>\n",
       "      <td>0.000000e+00</td>\n",
       "      <td>9.394475e+04</td>\n",
       "      <td>0.000000e+00</td>\n",
       "      <td>0.000000e+00</td>\n",
       "      <td>8.115000e+03</td>\n",
       "      <td>2.288695e+05</td>\n",
       "      <td>0.000000e+00</td>\n",
       "    </tr>\n",
       "    <tr>\n",
       "      <th>50%</th>\n",
       "      <td>2.105960e+05</td>\n",
       "      <td>9.413595e+05</td>\n",
       "      <td>6.082935e+05</td>\n",
       "      <td>3.000000e+05</td>\n",
       "      <td>3.605280e+05</td>\n",
       "      <td>9.659550e+05</td>\n",
       "      <td>2.018200e+04</td>\n",
       "    </tr>\n",
       "    <tr>\n",
       "      <th>75%</th>\n",
       "      <td>2.708505e+05</td>\n",
       "      <td>1.968287e+06</td>\n",
       "      <td>1.714221e+06</td>\n",
       "      <td>8.000000e+05</td>\n",
       "      <td>8.145280e+05</td>\n",
       "      <td>2.319991e+06</td>\n",
       "      <td>5.374075e+04</td>\n",
       "    </tr>\n",
       "    <tr>\n",
       "      <th>max</th>\n",
       "      <td>2.670423e+07</td>\n",
       "      <td>3.098866e+08</td>\n",
       "      <td>3.117640e+08</td>\n",
       "      <td>9.734362e+07</td>\n",
       "      <td>1.303223e+08</td>\n",
       "      <td>4.345095e+08</td>\n",
       "      <td>5.235198e+06</td>\n",
       "    </tr>\n",
       "  </tbody>\n",
       "</table>\n",
       "</div>"
      ],
      "text/plain": [
       "             salary  total_payments  exercised_stock_options         bonus  \\\n",
       "count  1.460000e+02    1.460000e+02             1.460000e+02  1.460000e+02   \n",
       "mean   3.658114e+05    4.350622e+06             4.182736e+06  1.333474e+06   \n",
       "std    2.203575e+06    2.693448e+07             2.607040e+07  8.094029e+06   \n",
       "min    0.000000e+00    0.000000e+00             0.000000e+00  0.000000e+00   \n",
       "25%    0.000000e+00    9.394475e+04             0.000000e+00  0.000000e+00   \n",
       "50%    2.105960e+05    9.413595e+05             6.082935e+05  3.000000e+05   \n",
       "75%    2.708505e+05    1.968287e+06             1.714221e+06  8.000000e+05   \n",
       "max    2.670423e+07    3.098866e+08             3.117640e+08  9.734362e+07   \n",
       "\n",
       "       restricted_stock  total_stock_value      expenses  \n",
       "count      1.460000e+02       1.460000e+02  1.460000e+02  \n",
       "mean       1.749257e+06       5.846018e+06  7.074827e+04  \n",
       "std        1.089995e+07       3.624681e+07  4.327163e+05  \n",
       "min       -2.604490e+06      -4.409300e+04  0.000000e+00  \n",
       "25%        8.115000e+03       2.288695e+05  0.000000e+00  \n",
       "50%        3.605280e+05       9.659550e+05  2.018200e+04  \n",
       "75%        8.145280e+05       2.319991e+06  5.374075e+04  \n",
       "max        1.303223e+08       4.345095e+08  5.235198e+06  "
      ]
     },
     "execution_count": 55,
     "metadata": {},
     "output_type": "execute_result"
    }
   ],
   "source": [
    "# Determining the outliers for financial datas\n",
    "financial_features=[\"salary\", \"total_payments\",\"exercised_stock_options\",\"bonus\",\"restricted_stock\", \"total_stock_value\", \"expenses\"]\n",
    "temp_df[financial_features].describe()"
   ]
  },
  {
   "cell_type": "code",
   "execution_count": 56,
   "metadata": {},
   "outputs": [],
   "source": [
    "temp_df[temp_df[\"restricted_stock\"]<0]\n",
    "## Based on my understanding restricted stocks or any stocks cannot be negative. And this is only one with negative restricted_stocks\n",
    "temp_df=temp_df.drop(index=\"BHATNAGAR SANJAY\",axis=0)"
   ]
  },
  {
   "cell_type": "code",
   "execution_count": 57,
   "metadata": {},
   "outputs": [
    {
     "name": "stdout",
     "output_type": "stream",
     "text": [
      "<class 'pandas.core.frame.DataFrame'>\n",
      "Index: 145 entries, METTS MARK to GLISAN JR BEN F\n",
      "Data columns (total 14 columns):\n",
      "poi                        145 non-null float64\n",
      "salary                     145 non-null float64\n",
      "to_messages                145 non-null float64\n",
      "total_payments             145 non-null float64\n",
      "exercised_stock_options    145 non-null float64\n",
      "bonus                      145 non-null float64\n",
      "restricted_stock           145 non-null float64\n",
      "shared_receipt_with_poi    145 non-null float64\n",
      "total_stock_value          145 non-null float64\n",
      "expenses                   145 non-null float64\n",
      "from_messages              145 non-null float64\n",
      "from_this_person_to_poi    145 non-null float64\n",
      "long_term_incentive        145 non-null float64\n",
      "from_poi_to_this_person    145 non-null float64\n",
      "dtypes: float64(14)\n",
      "memory usage: 17.0+ KB\n"
     ]
    }
   ],
   "source": [
    "temp_df.info()"
   ]
  },
  {
   "cell_type": "code",
   "execution_count": 58,
   "metadata": {},
   "outputs": [
    {
     "data": {
      "text/html": [
       "<div>\n",
       "<style scoped>\n",
       "    .dataframe tbody tr th:only-of-type {\n",
       "        vertical-align: middle;\n",
       "    }\n",
       "\n",
       "    .dataframe tbody tr th {\n",
       "        vertical-align: top;\n",
       "    }\n",
       "\n",
       "    .dataframe thead th {\n",
       "        text-align: right;\n",
       "    }\n",
       "</style>\n",
       "<table border=\"1\" class=\"dataframe\">\n",
       "  <thead>\n",
       "    <tr style=\"text-align: right;\">\n",
       "      <th></th>\n",
       "      <th>poi</th>\n",
       "      <th>salary</th>\n",
       "      <th>to_messages</th>\n",
       "      <th>total_payments</th>\n",
       "      <th>exercised_stock_options</th>\n",
       "      <th>bonus</th>\n",
       "      <th>restricted_stock</th>\n",
       "      <th>shared_receipt_with_poi</th>\n",
       "      <th>total_stock_value</th>\n",
       "      <th>expenses</th>\n",
       "      <th>from_messages</th>\n",
       "      <th>from_this_person_to_poi</th>\n",
       "      <th>long_term_incentive</th>\n",
       "      <th>from_poi_to_this_person</th>\n",
       "    </tr>\n",
       "  </thead>\n",
       "  <tbody>\n",
       "    <tr>\n",
       "      <th>TOTAL</th>\n",
       "      <td>0.0</td>\n",
       "      <td>26704229.0</td>\n",
       "      <td>0.0</td>\n",
       "      <td>309886585.0</td>\n",
       "      <td>311764000.0</td>\n",
       "      <td>97343619.0</td>\n",
       "      <td>130322299.0</td>\n",
       "      <td>0.0</td>\n",
       "      <td>434509511.0</td>\n",
       "      <td>5235198.0</td>\n",
       "      <td>0.0</td>\n",
       "      <td>0.0</td>\n",
       "      <td>48521928.0</td>\n",
       "      <td>0.0</td>\n",
       "    </tr>\n",
       "  </tbody>\n",
       "</table>\n",
       "</div>"
      ],
      "text/plain": [
       "       poi      salary  to_messages  total_payments  exercised_stock_options  \\\n",
       "TOTAL  0.0  26704229.0          0.0     309886585.0              311764000.0   \n",
       "\n",
       "            bonus  restricted_stock  shared_receipt_with_poi  \\\n",
       "TOTAL  97343619.0       130322299.0                      0.0   \n",
       "\n",
       "       total_stock_value   expenses  from_messages  from_this_person_to_poi  \\\n",
       "TOTAL        434509511.0  5235198.0            0.0                      0.0   \n",
       "\n",
       "       long_term_incentive  from_poi_to_this_person  \n",
       "TOTAL           48521928.0                      0.0  "
      ]
     },
     "execution_count": 58,
     "metadata": {},
     "output_type": "execute_result"
    }
   ],
   "source": [
    "temp_df[temp_df[\"salary\"]==temp_df[\"salary\"].max()]\n",
    "# TOTAL seems odd, and it was pointed out in the session that this could be a human error hence this a outlier too.\n"
   ]
  },
  {
   "cell_type": "code",
   "execution_count": 59,
   "metadata": {},
   "outputs": [],
   "source": [
    "temp_df=temp_df.drop(index=\"TOTAL\",axis=0)"
   ]
  },
  {
   "cell_type": "code",
   "execution_count": 60,
   "metadata": {},
   "outputs": [],
   "source": [
    "temp_df=temp_df.drop(index=temp_df[temp_df[\"total_stock_value\"]<0].index,axis=0)"
   ]
  },
  {
   "cell_type": "code",
   "execution_count": 61,
   "metadata": {},
   "outputs": [
    {
     "data": {
      "text/plain": [
       "Index([u'POWERS WILLIAM', u'LOCKHART EUGENE E'], dtype='object')"
      ]
     },
     "execution_count": 61,
     "metadata": {},
     "output_type": "execute_result"
    }
   ],
   "source": [
    "temp_df[financial_features].loc[(temp_df[financial_features]==0).all(axis=1)].index\n",
    "# found this two outliers with all finantial features as zero, hence it can be dropped"
   ]
  },
  {
   "cell_type": "code",
   "execution_count": 62,
   "metadata": {},
   "outputs": [],
   "source": [
    "temp_df=temp_df.drop(temp_df[financial_features].loc[(temp_df[financial_features]==0).all(axis=1)].index,axis=0)"
   ]
  },
  {
   "cell_type": "code",
   "execution_count": 64,
   "metadata": {},
   "outputs": [],
   "source": [
    "#converting back to dict\n",
    "data_dict=temp_df.to_dict('index')"
   ]
  },
  {
   "cell_type": "code",
   "execution_count": 66,
   "metadata": {},
   "outputs": [],
   "source": [
    "# Reference module from feature selection: Used for creating new features \"fraction_to_poi\" and \"fraction_from_poi\"\n",
    "def computeFraction( poi_messages, all_messages ):\n",
    "\n",
    "    if poi_messages!=0 and all_messages!=0:\n",
    "        fraction = float(poi_messages)/float(all_messages)\n",
    "        return fraction\n",
    "    else:\n",
    "        fraction = 0.0\n",
    "    \n",
    "\n",
    "\n",
    "\n",
    "        return fraction"
   ]
  },
  {
   "cell_type": "code",
   "execution_count": 67,
   "metadata": {},
   "outputs": [],
   "source": [
    "# Used for creating new features \"total_profit\"\n",
    "def total_profit(bonus, salary,long_term_incentive):\n",
    "    profit=float(bonus)+float(salary)+float(long_term_incentive)\n",
    "    \n",
    "    return profit\n",
    "    "
   ]
  },
  {
   "cell_type": "code",
   "execution_count": 68,
   "metadata": {},
   "outputs": [],
   "source": [
    "submit_dict = {}\n",
    "for name in data_dict:\n",
    "\n",
    "    data_point = data_dict[name]\n",
    "\n",
    "    \n",
    "    from_poi_to_this_person = data_point[\"from_poi_to_this_person\"]\n",
    "    to_messages = data_point[\"to_messages\"]\n",
    "    fraction_from_poi = computeFraction( from_poi_to_this_person, to_messages )\n",
    "    \n",
    "    data_point[\"fraction_from_poi\"] = fraction_from_poi\n",
    "    \n",
    "    bonus=data_point[\"bonus\"]\n",
    "    salary=data_point[\"salary\"]\n",
    "    long_term_incentive=data_point[\"long_term_incentive\"]\n",
    "\n",
    "\n",
    "    from_this_person_to_poi = data_point[\"from_this_person_to_poi\"]\n",
    "    from_messages = data_point[\"from_messages\"]\n",
    "    fraction_to_poi = computeFraction( from_this_person_to_poi, from_messages )\n",
    "    profit=total_profit(bonus, salary,long_term_incentive)\n",
    "    submit_dict[name]={\"from_poi_to_this_person\":fraction_from_poi,\n",
    "                       \"from_this_person_to_poi\":fraction_to_poi,\n",
    "                      \"total_profit\":total_profit}\n",
    "    data_point[\"fraction_to_poi\"] = fraction_to_poi\n",
    "    data_dict[name][\"fraction_to_poi\"]=fraction_to_poi\n",
    "    data_dict[name][\"fraction_from_poi\"]= fraction_from_poi\n",
    "    data_dict[name][\"total_profit\"]=profit"
   ]
  },
  {
   "cell_type": "code",
   "execution_count": 69,
   "metadata": {
    "scrolled": true
   },
   "outputs": [
    {
     "name": "stdout",
     "output_type": "stream",
     "text": [
      "Total number of features are 17\n"
     ]
    },
    {
     "data": {
      "text/plain": [
       "{'bonus': 600000.0,\n",
       " 'exercised_stock_options': 0.0,\n",
       " 'expenses': 94299.0,\n",
       " 'fraction_from_poi': 0.04708798017348203,\n",
       " 'fraction_to_poi': 0.034482758620689655,\n",
       " 'from_messages': 29.0,\n",
       " 'from_poi_to_this_person': 38.0,\n",
       " 'from_this_person_to_poi': 1.0,\n",
       " 'long_term_incentive': 0.0,\n",
       " 'poi': 0.0,\n",
       " 'restricted_stock': 585062.0,\n",
       " 'salary': 365788.0,\n",
       " 'shared_receipt_with_poi': 702.0,\n",
       " 'to_messages': 807.0,\n",
       " 'total_payments': 1061827.0,\n",
       " 'total_profit': 965788.0,\n",
       " 'total_stock_value': 585062.0}"
      ]
     },
     "execution_count": 69,
     "metadata": {},
     "output_type": "execute_result"
    }
   ],
   "source": [
    "#added two additional features in data_dict\n",
    "total_features=len (data_dict[name_data_point[0]])\n",
    "print 'After cleaning Total number of features are {}'.format(total_features)\n",
    "data_dict[name_data_point[0]]"
   ]
  },
  {
   "cell_type": "code",
   "execution_count": 75,
   "metadata": {},
   "outputs": [
    {
     "name": "stdout",
     "output_type": "stream",
     "text": [
      "After cleaning number of data points 141\n"
     ]
    }
   ],
   "source": [
    "print 'After cleaning number of data points {}'.format(len(data_dict))"
   ]
  },
  {
   "cell_type": "code",
   "execution_count": 76,
   "metadata": {},
   "outputs": [],
   "source": [
    "features_list=features_temp\n",
    "data = featureFormat(my_dataset, features_list, sort_keys = True)\n",
    "labels, features = targetFeatureSplit(data)"
   ]
  },
  {
   "cell_type": "markdown",
   "metadata": {},
   "source": [
    "## Feature Scaling"
   ]
  },
  {
   "cell_type": "code",
   "execution_count": 77,
   "metadata": {},
   "outputs": [],
   "source": [
    "from sklearn.model_selection import train_test_split"
   ]
  },
  {
   "cell_type": "code",
   "execution_count": 78,
   "metadata": {},
   "outputs": [],
   "source": [
    "features_train, features_test, labels_train, labels_test =train_test_split(features, labels, test_size=0.3, random_state=42)"
   ]
  },
  {
   "cell_type": "code",
   "execution_count": 85,
   "metadata": {},
   "outputs": [],
   "source": [
    "from sklearn.naive_bayes import GaussianNB\n",
    "clf = GaussianNB()"
   ]
  },
  {
   "cell_type": "code",
   "execution_count": 86,
   "metadata": {},
   "outputs": [],
   "source": [
    "from time import time"
   ]
  },
  {
   "cell_type": "code",
   "execution_count": 87,
   "metadata": {},
   "outputs": [
    {
     "name": "stdout",
     "output_type": "stream",
     "text": [
      "Time to train 0.048 s\n"
     ]
    }
   ],
   "source": [
    "t0=time()\n",
    "clf.fit(features_train,labels_train)\n",
    "print \"Time to train {}\".format(round(time()-t0,3)), 's'"
   ]
  },
  {
   "cell_type": "code",
   "execution_count": 89,
   "metadata": {},
   "outputs": [
    {
     "name": "stdout",
     "output_type": "stream",
     "text": [
      "Accuracy for Naive Gaussian 0.13636363636363635\n"
     ]
    }
   ],
   "source": [
    "# Accuracy of Gaussian classifier\n",
    "print \"Accuracy for Naive Gaussian\", clf.score(features_test,labels_test)"
   ]
  },
  {
   "cell_type": "code",
   "execution_count": 141,
   "metadata": {},
   "outputs": [],
   "source": [
    "# Using max_min scaler as I am using SVC which is effected by scale of dimensions\n",
    "from sklearn.pipeline import Pipeline\n",
    "from sklearn.svm import SVC\n",
    "from sklearn.preprocessing import MinMaxScaler\n",
    "from sklearn.feature_selection import SelectKBest, f_classif\n",
    "\n",
    "scaler = MinMaxScaler()\n",
    "clf=SVC()\n",
    "skb=SelectKBest(f_classif)\n",
    "pipe = Pipeline([(\"SKB\", skb), ('scaler', scaler), ('SVC', clf)])\n"
   ]
  },
  {
   "cell_type": "code",
   "execution_count": 146,
   "metadata": {},
   "outputs": [
    {
     "data": {
      "text/plain": [
       "['kernel',\n",
       " 'C',\n",
       " 'verbose',\n",
       " 'probability',\n",
       " 'degree',\n",
       " 'shrinking',\n",
       " 'max_iter',\n",
       " 'decision_function_shape',\n",
       " 'random_state',\n",
       " 'tol',\n",
       " 'cache_size',\n",
       " 'coef0',\n",
       " 'gamma',\n",
       " 'class_weight']"
      ]
     },
     "execution_count": 146,
     "metadata": {},
     "output_type": "execute_result"
    }
   ],
   "source": [
    "from sklearn.model_selection import GridSearchCV\n",
    "param_grid = {\"SKB__k\": [3,4,5,6,7,10,13],'SVC__C': [1, 10, 100, 1000], 'SVC__gamma': [0.001, 0.0001], 'SVC__kernel': ['linear','rbf']}\n",
    "clf_grid=GridSearchCV(pipe,param_grid)\n",
    "clf.get_params().keys()"
   ]
  },
  {
   "cell_type": "code",
   "execution_count": 147,
   "metadata": {
    "scrolled": true
   },
   "outputs": [
    {
     "name": "stdout",
     "output_type": "stream",
     "text": [
      "Time to train SVC 4.279 s\n"
     ]
    },
    {
     "name": "stderr",
     "output_type": "stream",
     "text": [
      "C:\\Users\\RATAN\\Anaconda2\\lib\\site-packages\\sklearn\\model_selection\\_search.py:841: DeprecationWarning: The default of the `iid` parameter will change from True to False in version 0.22 and will be removed in 0.24. This will change numeric results when test-set sizes are unequal.\n",
      "  DeprecationWarning)\n"
     ]
    }
   ],
   "source": [
    "t0=time()\n",
    "clf_grid.fit(features, labels)\n",
    "print \"Time to train SVC {}\".format(round(time()-t0,3)), 's'"
   ]
  },
  {
   "cell_type": "code",
   "execution_count": 148,
   "metadata": {},
   "outputs": [
    {
     "data": {
      "text/plain": [
       "Pipeline(memory=None,\n",
       "     steps=[('SKB', SelectKBest(k=3, score_func=<function f_classif at 0x000000000D5CC0B8>)), ('scaler', MinMaxScaler(copy=True, feature_range=(0, 1))), ('SVC', SVC(C=1, cache_size=200, class_weight=None, coef0=0.0,\n",
       "  decision_function_shape='ovr', degree=3, gamma=0.001, kernel='linear',\n",
       "  max_iter=-1, probability=False, random_state=None, shrinking=True,\n",
       "  tol=0.001, verbose=False))])"
      ]
     },
     "execution_count": 148,
     "metadata": {},
     "output_type": "execute_result"
    }
   ],
   "source": [
    "clf_grid.best_estimator_"
   ]
  },
  {
   "cell_type": "code",
   "execution_count": 118,
   "metadata": {},
   "outputs": [],
   "source": [
    "clf=clf_grid.best_estimator_\n",
    "clf.fit(features_train,labels_train)\n",
    "prediction=clf.predict(features_test)"
   ]
  },
  {
   "cell_type": "code",
   "execution_count": 159,
   "metadata": {},
   "outputs": [
    {
     "name": "stdout",
     "output_type": "stream",
     "text": [
      "Accuracy of SVC classifer is  :  0.8636363636363636\n",
      "Precision of SVC classifer is :  0.7458677685950413\n",
      "Recall of SVC classifer is    :  0.8636363636363636\n",
      "f1-score of SVC classifer is  :  0.8004434589800443\n"
     ]
    }
   ],
   "source": [
    "from sklearn.metrics import accuracy_score, precision_score, recall_score, f1_score\n",
    "print \"Accuracy of SVC classifer is  : \",accuracy_score(labels_test, prediction)\n",
    "print \"Precision of SVC classifer is : \",precision_score(labels_test,prediction,average='weighted')\n",
    "print \"Recall of SVC classifer is    : \",recall_score(labels_test,prediction,average='weighted')\n",
    "print \"f1-score of SVC classifer is  : \",f1_score(labels_test,prediction,average='weighted')"
   ]
  },
  {
   "cell_type": "code",
   "execution_count": null,
   "metadata": {},
   "outputs": [],
   "source": []
  },
  {
   "cell_type": "code",
   "execution_count": null,
   "metadata": {},
   "outputs": [],
   "source": []
  }
 ],
 "metadata": {
  "kernelspec": {
   "display_name": "Python 2",
   "language": "python",
   "name": "python2"
  },
  "language_info": {
   "codemirror_mode": {
    "name": "ipython",
    "version": 2
   },
   "file_extension": ".py",
   "mimetype": "text/x-python",
   "name": "python",
   "nbconvert_exporter": "python",
   "pygments_lexer": "ipython2",
   "version": "2.7.16"
  }
 },
 "nbformat": 4,
 "nbformat_minor": 2
}
